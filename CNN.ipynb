{
 "cells": [
  {
   "cell_type": "code",
   "execution_count": 134,
   "metadata": {
    "collapsed": true
   },
   "outputs": [],
   "source": [
    "# Handritten number recognition using CNN training on MNIST dataset."
   ]
  },
  {
   "cell_type": "code",
   "execution_count": 1,
   "metadata": {
    "collapsed": true
   },
   "outputs": [],
   "source": [
    "import numpy as np\n",
    "import pandas as pd\n",
    "import matplotlib.pyplot as plt\n",
    "import cv2\n",
    "%matplotlib inline"
   ]
  },
  {
   "cell_type": "code",
   "execution_count": 8,
   "metadata": {},
   "outputs": [],
   "source": [
    "import keras\n",
    "from keras.models import Sequential\n",
    "from keras.layers import Dense, Conv2D, MaxPooling2D, Activation, Flatten\n",
    "from keras.utils import np_utils"
   ]
  },
  {
   "cell_type": "code",
   "execution_count": 3,
   "metadata": {
    "collapsed": true
   },
   "outputs": [],
   "source": [
    "df = pd.read_csv('knn.csv') # reading MNIST dataset\n",
    "data = df.values"
   ]
  },
  {
   "cell_type": "code",
   "execution_count": 27,
   "metadata": {},
   "outputs": [
    {
     "data": {
      "text/plain": [
       "(9000, 10)"
      ]
     },
     "execution_count": 27,
     "metadata": {},
     "output_type": "execute_result"
    }
   ],
   "source": [
    "value = 15000\n",
    "split = int(0.6*value)\n",
    "\n",
    "X_val = (data[:value, 1:])/255\n",
    "Y_val = np_utils.to_categorical(data[:value, 0])\n",
    "\n",
    "X = X_val.reshape(X_val.shape[0],28,28,1)\n",
    "\n",
    "x_test = data[value : value+split, 1:]/255#.reshape(28,28)\n",
    "x = x_test.reshape(x_test.shape[0],28,28,1)\n",
    "\n",
    "y_test = np_utils.to_categorical(data[value : value+split, 0])\n",
    "\n",
    "y_test.shape"
   ]
  },
  {
   "cell_type": "code",
   "execution_count": 28,
   "metadata": {},
   "outputs": [
    {
     "name": "stdout",
     "output_type": "stream",
     "text": [
      "_________________________________________________________________\n",
      "Layer (type)                 Output Shape              Param #   \n",
      "=================================================================\n",
      "conv2d_7 (Conv2D)            (None, 24, 24, 16)        416       \n",
      "_________________________________________________________________\n",
      "max_pooling2d_7 (MaxPooling2 (None, 12, 12, 16)        0         \n",
      "_________________________________________________________________\n",
      "activation_10 (Activation)   (None, 12, 12, 16)        0         \n",
      "_________________________________________________________________\n",
      "conv2d_8 (Conv2D)            (None, 10, 10, 8)         1160      \n",
      "_________________________________________________________________\n",
      "max_pooling2d_8 (MaxPooling2 (None, 5, 5, 8)           0         \n",
      "_________________________________________________________________\n",
      "activation_11 (Activation)   (None, 5, 5, 8)           0         \n",
      "_________________________________________________________________\n",
      "flatten_4 (Flatten)          (None, 200)               0         \n",
      "_________________________________________________________________\n",
      "dense_4 (Dense)              (None, 10)                2010      \n",
      "_________________________________________________________________\n",
      "activation_12 (Activation)   (None, 10)                0         \n",
      "=================================================================\n",
      "Total params: 3,586\n",
      "Trainable params: 3,586\n",
      "Non-trainable params: 0\n",
      "_________________________________________________________________\n"
     ]
    }
   ],
   "source": [
    "# creating CNN model \n",
    "\n",
    "model = Sequential ()\n",
    "\n",
    "model.add (Conv2D (16, (5, 5), input_shape=(28, 28, 1)))\n",
    "model.add (MaxPooling2D (pool_size = (2, 2)))\n",
    "model.add (Activation ('relu'))\n",
    "\n",
    "model.add (Conv2D (8,(3,3)))\n",
    "model.add (MaxPooling2D (pool_size = (2,2)))\n",
    "model.add (Activation ('relu'))\n",
    "\n",
    "model.add(Flatten())\n",
    "\n",
    "model.add(Dense(10))\n",
    "model.add(Act ivation('softmax'))\n",
    "\n",
    "model.summary()\n",
    "model.compile(loss='categorical_crossentropy', optimizer='adam', metrics=['accuracy'])"
   ]
  },
  {
   "cell_type": "code",
   "execution_count": 29,
   "metadata": {
    "scrolled": false
   },
   "outputs": [
    {
     "name": "stdout",
     "output_type": "stream",
     "text": [
      "Train on 15000 samples, validate on 9000 samples\n",
      "Epoch 1/50\n",
      "15000/15000 [==============================] - 9s - loss: 1.1043 - acc: 0.6528 - val_loss: 0.4459 - val_acc: 0.8650\n",
      "Epoch 2/50\n",
      "15000/15000 [==============================] - 8s - loss: 0.3421 - acc: 0.8953 - val_loss: 0.2675 - val_acc: 0.9171\n",
      "Epoch 3/50\n",
      "15000/15000 [==============================] - 9s - loss: 0.2121 - acc: 0.9350 - val_loss: 0.1933 - val_acc: 0.9443\n",
      "Epoch 4/50\n",
      "15000/15000 [==============================] - 9s - loss: 0.1552 - acc: 0.9520 - val_loss: 0.1432 - val_acc: 0.9589\n",
      "Epoch 5/50\n",
      "15000/15000 [==============================] - 9s - loss: 0.1276 - acc: 0.9607 - val_loss: 0.1278 - val_acc: 0.9631\n",
      "Epoch 6/50\n",
      "15000/15000 [==============================] - 9s - loss: 0.1120 - acc: 0.9661 - val_loss: 0.1108 - val_acc: 0.9672\n",
      "Epoch 7/50\n",
      "15000/15000 [==============================] - 9s - loss: 0.0993 - acc: 0.9690 - val_loss: 0.1079 - val_acc: 0.9687\n",
      "Epoch 8/50\n",
      "15000/15000 [==============================] - 9s - loss: 0.0905 - acc: 0.9718 - val_loss: 0.1042 - val_acc: 0.9694\n",
      "Epoch 9/50\n",
      "15000/15000 [==============================] - 9s - loss: 0.0853 - acc: 0.9730 - val_loss: 0.0973 - val_acc: 0.9709\n",
      "Epoch 10/50\n",
      "15000/15000 [==============================] - 9s - loss: 0.0785 - acc: 0.9758 - val_loss: 0.0915 - val_acc: 0.9732\n",
      "Epoch 11/50\n",
      "15000/15000 [==============================] - 9s - loss: 0.0755 - acc: 0.9773 - val_loss: 0.0924 - val_acc: 0.9729\n",
      "Epoch 12/50\n",
      "15000/15000 [==============================] - 9s - loss: 0.0706 - acc: 0.9786 - val_loss: 0.0883 - val_acc: 0.9748\n",
      "Epoch 13/50\n",
      "15000/15000 [==============================] - 9s - loss: 0.0676 - acc: 0.9789 - val_loss: 0.0927 - val_acc: 0.9737\n",
      "Epoch 14/50\n",
      "15000/15000 [==============================] - 9s - loss: 0.0639 - acc: 0.9797 - val_loss: 0.0865 - val_acc: 0.9757\n",
      "Epoch 15/50\n",
      "15000/15000 [==============================] - 9s - loss: 0.0626 - acc: 0.9807 - val_loss: 0.0817 - val_acc: 0.9757\n",
      "Epoch 16/50\n",
      "15000/15000 [==============================] - 9s - loss: 0.0595 - acc: 0.9807 - val_loss: 0.0839 - val_acc: 0.9744\n",
      "Epoch 17/50\n",
      "15000/15000 [==============================] - 9s - loss: 0.0562 - acc: 0.9821 - val_loss: 0.0809 - val_acc: 0.9756\n",
      "Epoch 18/50\n",
      "15000/15000 [==============================] - 10s - loss: 0.0528 - acc: 0.9839 - val_loss: 0.0792 - val_acc: 0.9764\n",
      "Epoch 19/50\n",
      "15000/15000 [==============================] - 9s - loss: 0.0502 - acc: 0.9841 - val_loss: 0.0796 - val_acc: 0.9767\n",
      "Epoch 20/50\n",
      "15000/15000 [==============================] - 9s - loss: 0.0495 - acc: 0.9843 - val_loss: 0.0799 - val_acc: 0.9763\n",
      "Epoch 21/50\n",
      "15000/15000 [==============================] - 9s - loss: 0.0466 - acc: 0.9837 - val_loss: 0.0791 - val_acc: 0.9773\n",
      "Epoch 22/50\n",
      "15000/15000 [==============================] - 9s - loss: 0.0454 - acc: 0.9857 - val_loss: 0.0775 - val_acc: 0.9784\n",
      "Epoch 23/50\n",
      "15000/15000 [==============================] - 9s - loss: 0.0434 - acc: 0.9861 - val_loss: 0.0790 - val_acc: 0.9777\n",
      "Epoch 24/50\n",
      "15000/15000 [==============================] - 9s - loss: 0.0425 - acc: 0.9867 - val_loss: 0.0771 - val_acc: 0.9776\n",
      "Epoch 25/50\n",
      "15000/15000 [==============================] - 9s - loss: 0.0405 - acc: 0.9874 - val_loss: 0.0820 - val_acc: 0.9762\n",
      "Epoch 26/50\n",
      "15000/15000 [==============================] - 9s - loss: 0.0380 - acc: 0.9869 - val_loss: 0.0785 - val_acc: 0.9774\n",
      "Epoch 27/50\n",
      "15000/15000 [==============================] - 9s - loss: 0.0383 - acc: 0.9875 - val_loss: 0.0870 - val_acc: 0.9746\n",
      "Epoch 28/50\n",
      "15000/15000 [==============================] - 9s - loss: 0.0363 - acc: 0.9885 - val_loss: 0.0770 - val_acc: 0.9773\n",
      "Epoch 29/50\n",
      "15000/15000 [==============================] - 9s - loss: 0.0342 - acc: 0.9891 - val_loss: 0.0804 - val_acc: 0.9770\n",
      "Epoch 30/50\n",
      "15000/15000 [==============================] - 9s - loss: 0.0331 - acc: 0.9886 - val_loss: 0.0775 - val_acc: 0.9783\n",
      "Epoch 31/50\n",
      "15000/15000 [==============================] - 9s - loss: 0.0312 - acc: 0.9890 - val_loss: 0.0837 - val_acc: 0.9761\n",
      "Epoch 32/50\n",
      "15000/15000 [==============================] - 9s - loss: 0.0293 - acc: 0.9909 - val_loss: 0.0823 - val_acc: 0.9774\n",
      "Epoch 33/50\n",
      "15000/15000 [==============================] - 9s - loss: 0.0290 - acc: 0.9901 - val_loss: 0.0889 - val_acc: 0.9754\n",
      "Epoch 34/50\n",
      "15000/15000 [==============================] - 9s - loss: 0.0289 - acc: 0.9902 - val_loss: 0.0764 - val_acc: 0.9787\n",
      "Epoch 35/50\n",
      "15000/15000 [==============================] - 10s - loss: 0.0272 - acc: 0.9904 - val_loss: 0.0795 - val_acc: 0.9769\n",
      "Epoch 36/50\n",
      "15000/15000 [==============================] - 9s - loss: 0.0278 - acc: 0.9905 - val_loss: 0.0816 - val_acc: 0.9776\n",
      "Epoch 37/50\n",
      "15000/15000 [==============================] - 9s - loss: 0.0249 - acc: 0.9911 - val_loss: 0.0826 - val_acc: 0.9778\n",
      "Epoch 38/50\n",
      "15000/15000 [==============================] - 9s - loss: 0.0263 - acc: 0.9909 - val_loss: 0.0810 - val_acc: 0.9784\n",
      "Epoch 39/50\n",
      "15000/15000 [==============================] - 9s - loss: 0.0240 - acc: 0.9920 - val_loss: 0.0883 - val_acc: 0.9780\n",
      "Epoch 40/50\n",
      "15000/15000 [==============================] - 9s - loss: 0.0224 - acc: 0.9923 - val_loss: 0.0818 - val_acc: 0.9776\n",
      "Epoch 41/50\n",
      "15000/15000 [==============================] - 9s - loss: 0.0212 - acc: 0.9929 - val_loss: 0.0838 - val_acc: 0.9790\n",
      "Epoch 42/50\n",
      "15000/15000 [==============================] - 9s - loss: 0.0190 - acc: 0.9939 - val_loss: 0.0808 - val_acc: 0.9783\n",
      "Epoch 43/50\n",
      "15000/15000 [==============================] - 9s - loss: 0.0210 - acc: 0.9930 - val_loss: 0.0926 - val_acc: 0.9763\n",
      "Epoch 44/50\n",
      "15000/15000 [==============================] - 9s - loss: 0.0191 - acc: 0.9941 - val_loss: 0.0780 - val_acc: 0.9799\n",
      "Epoch 45/50\n",
      "15000/15000 [==============================] - 9s - loss: 0.0172 - acc: 0.9945 - val_loss: 0.0788 - val_acc: 0.9800\n",
      "Epoch 46/50\n",
      "15000/15000 [==============================] - 9s - loss: 0.0178 - acc: 0.9943 - val_loss: 0.0806 - val_acc: 0.9789\n",
      "Epoch 47/50\n",
      "15000/15000 [==============================] - 9s - loss: 0.0159 - acc: 0.9951 - val_loss: 0.0871 - val_acc: 0.9780\n",
      "Epoch 48/50\n",
      "15000/15000 [==============================] - 9s - loss: 0.0147 - acc: 0.9963 - val_loss: 0.0868 - val_acc: 0.9788\n",
      "Epoch 49/50\n",
      "15000/15000 [==============================] - 9s - loss: 0.0143 - acc: 0.9961 - val_loss: 0.0833 - val_acc: 0.9797\n",
      "Epoch 50/50\n",
      "15000/15000 [==============================] - 9s - loss: 0.0133 - acc: 0.9955 - val_loss: 0.0902 - val_acc: 0.9780\n"
     ]
    }
   ],
   "source": [
    "hist = model.fit(X, Y_val,\n",
    "                epochs=50,\n",
    "                shuffle=True,\n",
    "                batch_size=100,\n",
    "                validation_data=(x, y_test))"
   ]
  },
  {
   "cell_type": "code",
   "execution_count": 13,
   "metadata": {},
   "outputs": [
    {
     "data": {
      "text/plain": [
       "(None, 12, 12, 16)"
      ]
     },
     "execution_count": 13,
     "metadata": {},
     "output_type": "execute_result"
    }
   ],
   "source": [
    "#dir(model.layers[1])\n",
    "model.layers[1].output_shape"
   ]
  },
  {
   "cell_type": "code",
   "execution_count": 14,
   "metadata": {},
   "outputs": [
    {
     "data": {
      "text/plain": [
       "<matplotlib.image.AxesImage at 0x7faba8fa80f0>"
      ]
     },
     "execution_count": 14,
     "metadata": {},
     "output_type": "execute_result"
    },
    {
     "data": {
      "image/png": "[encoded data removed]",
      "text/plain": [
       "<matplotlib.figure.Figure at 0x7fabdd1c2e80>"
      ]
     },
     "metadata": {},
     "output_type": "display_data"
    }
   ],
   "source": [
    "img = cv2.imread('test1.jpg') # reading the image to be determined \n",
    "img = cv2.cvtColor(img,cv2.COLOR_BGR2GRAY)\n",
    "#img = img[:,:680]\n",
    "plt.imshow(img, cmap = 'gray')"
   ]
  },
  {
   "cell_type": "code",
   "execution_count": 77,
   "metadata": {
    "scrolled": true
   },
   "outputs": [
    {
     "name": "stdout",
     "output_type": "stream",
     "text": [
      "(1277, 936)\n"
     ]
    },
    {
     "data": {
      "text/plain": [
       "<matplotlib.image.AxesImage at 0x7faba80de748>"
      ]
     },
     "execution_count": 77,
     "metadata": {},
     "output_type": "execute_result"
    },
    {
     "data": {
      "image/png": "[encoded data removed]",
      "text/plain": [
       "<matplotlib.figure.Figure at 0x7faba81ae3c8>"
      ]
     },
     "metadata": {},
     "output_type": "display_data"
    }
   ],
   "source": [
    "print (img.shape)\n",
    "imag = cv2.resize(img,(28,28))\n",
    "# print (imag.shape)\n",
    "#imai = 255 - imag\n",
    "\n",
    "imj = cv2.threshold(imag,109,255,cv2.THRESH_BINARY)\n",
    "imaj = np.array(imj[1])\n",
    "imaj = 255 - imaj\n",
    "#len(imj[1])\n",
    "# print (imj.shape)\n",
    "plt.imshow(imaj, cmap = 'gray')"
   ]
  },
  {
   "cell_type": "code",
   "execution_count": 87,
   "metadata": {
    "collapsed": true
   },
   "outputs": [],
   "source": [
    "imai = imaj.reshape(1,28,28,1)"
   ]
  },
  {
   "cell_type": "code",
   "execution_count": 89,
   "metadata": {},
   "outputs": [
    {
     "data": {
      "text/plain": [
       "4"
      ]
     },
     "execution_count": 89,
     "metadata": {},
     "output_type": "execute_result"
    }
   ],
   "source": [
    "pred = model.predict(imai)\n",
    "np.argmax(pred) # prints the result"
   ]
  },
  {
   "cell_type": "code",
   "execution_count": 31,
   "metadata": {},
   "outputs": [
    {
     "data": {
      "text/plain": [
       "(None, 24, 24, 16)"
      ]
     },
     "execution_count": 31,
     "metadata": {},
     "output_type": "execute_result"
    }
   ],
   "source": [
    "model.layers[0].output_shape"
   ]
  },
  {
   "cell_type": "code",
   "execution_count": 32,
   "metadata": {},
   "outputs": [
    {
     "data": {
      "text/plain": [
       "(None, 28, 28, 1)"
      ]
     },
     "execution_count": 32,
     "metadata": {},
     "output_type": "execute_result"
    }
   ],
   "source": [
    "model.layers[0].input_shape"
   ]
  }
 ],
 "metadata": {
  "anaconda-cloud": {},
  "kernelspec": {
   "display_name": "Python [conda root]",
   "language": "python",
   "name": "conda-root-py"
  },
  "language_info": {
   "codemirror_mode": {
    "name": "ipython",
    "version": 3
   },
   "file_extension": ".py",
   "mimetype": "text/x-python",
   "name": "python",
   "nbconvert_exporter": "python",
   "pygments_lexer": "ipython3",
   "version": "3.5.3"
  }
 },
 "nbformat": 4,
 "nbformat_minor": 1
}
